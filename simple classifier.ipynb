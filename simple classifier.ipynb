{
 "cells": [
  {
   "cell_type": "code",
   "execution_count": null,
   "metadata": {},
   "outputs": [],
   "source": [
    "\n",
    "from textblob.classifiers import NaiveBayesClassifier\n",
    "from textblob import TextBlob \n",
    "\n",
    "import pandas as pd\n",
    "df = pd.read_csv(\"vocab1.csv\")\n",
    "train1=[]\n",
    "for index, row in df.iterrows():\n",
    "    train1.append((row[0],row[1]))\n",
    "\n",
    "c2 = NaiveBayesClassifier(train1)\n",
    "\n",
    "# Classify addresses into categories\n",
    "print(c2.classify('DHANGU ROAD PATHANKOT PATHANKOT 145001'))\n",
    "print(c2.classify('BHAGTAN WALA BHAGTAN WALA AMRITSAR 143001')) "
   ]
  }
 ],
 "metadata": {
  "kernelspec": {
   "display_name": "Python 3",
   "language": "python",
   "name": "python3"
  },
  "language_info": {
   "codemirror_mode": {
    "name": "ipython",
    "version": 3
   },
   "file_extension": ".py",
   "mimetype": "text/x-python",
   "name": "python",
   "nbconvert_exporter": "python",
   "pygments_lexer": "ipython3",
   "version": "3.6.4"
  }
 },
 "nbformat": 4,
 "nbformat_minor": 2
}
