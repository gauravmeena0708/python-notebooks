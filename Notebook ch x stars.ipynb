{
 "cells": [
  {
   "cell_type": "code",
   "execution_count": 3,
   "id": "dbd35554",
   "metadata": {},
   "outputs": [
    {
     "name": "stdout",
     "output_type": "stream",
     "text": [
      "x\n",
      "------------------------------\n",
      "\n",
      "xx\n",
      "------------------------------\n",
      "\n",
      "xxx\n"
     ]
    }
   ],
   "source": [
    "#printing one and multiple stars\n",
    "print(\"x\")\n",
    "print(\"------------------------------\")\n",
    "print()\n",
    "print(\"xx\")\n",
    "print(\"------------------------------\")\n",
    "print()\n",
    "print(3*\"x\")"
   ]
  },
  {
   "cell_type": "code",
   "execution_count": 10,
   "id": "883d812e",
   "metadata": {},
   "outputs": [
    {
     "name": "stdout",
     "output_type": "stream",
     "text": [
      "x\n",
      "--------------------\n",
      "xx\n",
      "--------------------\n",
      "x\n",
      "--------------------\n",
      "xx\n",
      "--------------------\n"
     ]
    }
   ],
   "source": [
    "SEPERATOR = '\\n'+20*'-'+'\\n'\n",
    "\n",
    "print('x', end=SEPERATOR)\n",
    "print('xx', end=SEPERATOR)\n",
    "print(1*'x', end=SEPERATOR)\n",
    "print(2*'x', end=SEPERATOR)"
   ]
  },
  {
   "cell_type": "code",
   "execution_count": 11,
   "id": "4c67725e",
   "metadata": {},
   "outputs": [
    {
     "name": "stdout",
     "output_type": "stream",
     "text": [
      " ***************************************************\n",
      "  *************************************************\n",
      "   ***********************************************\n",
      "    *********************************************\n",
      "     *******************************************\n",
      "      *****************************************\n",
      "       ***************************************\n",
      "        *************************************\n",
      "         ***********************************\n",
      "          *********************************\n",
      "           *******************************\n",
      "            *****************************\n",
      "             ***************************\n",
      "              *************************\n",
      "               ***********************\n",
      "                *********************\n",
      "                 *******************\n",
      "                  *****************\n",
      "                   ***************\n",
      "                    *************\n",
      "                     ***********\n",
      "                      *********\n",
      "                       *******\n",
      "                        *****\n",
      "                         ***\n",
      "                          *\n"
     ]
    }
   ],
   "source": [
    "num_rows = 25  # Number of rows in the symmetric inverted triangle\n",
    "\n",
    "for x in range(num_rows*2+1,0,-2):\n",
    "    print(round(((num_rows*2+1)-x)/2)*\" \",x*\"*\")"
   ]
  },
  {
   "cell_type": "code",
   "execution_count": 18,
   "id": "884d8f0b",
   "metadata": {},
   "outputs": [
    {
     "name": "stdout",
     "output_type": "stream",
     "text": [
      "the value is     \n",
      "the value is    *\n",
      "the value is   **\n",
      "the value is  ***\n",
      "the value is ****\n"
     ]
    }
   ],
   "source": [
    "name = \"*\"\n",
    "for i in range(5):\n",
    "    val = 2*i\n",
    "    print(\"the value is {:>4}\".format(i*name))"
   ]
  },
  {
   "cell_type": "code",
   "execution_count": null,
   "id": "d14d9c26",
   "metadata": {},
   "outputs": [],
   "source": [
    "\n"
   ]
  },
  {
   "cell_type": "code",
   "execution_count": 35,
   "id": "426be2e0",
   "metadata": {},
   "outputs": [
    {
     "name": "stdout",
     "output_type": "stream",
     "text": [
      "My name is 35.00 and I am Charlie years old.\n",
      "My name is Charlie and I am 35 years old.\n",
      "hi   Python   there\n",
      "Value of Pi: 3.14\n",
      "Current time: 2023-10-24 17:01:03\n",
      "banana     -    10\n",
      "1,000,000\n",
      "apple carrot banana\n",
      "10\n",
      "0.50\n",
      "Py\n",
      "Py    \n",
      "    Py\n",
      "  Py  \n"
     ]
    }
   ],
   "source": [
    "#string formatting examples\n",
    "name = \"Charlie\"\n",
    "age = 35\n",
    "formatted_string = \"My name is {age:0.2f} and I am {name} years old.\".format(name=name, age=age)\n",
    "print(formatted_string)\n",
    "\n",
    "name = \"Charlie\"\n",
    "age = 35\n",
    "formatted_string = \"My name is %s and I am %d years old.\" % (name, age)\n",
    "print(formatted_string)\n",
    "\n",
    "text = \"Python\"\n",
    "formatted_string = f\"hi {text:^10} there\"  # Centered\n",
    "print(formatted_string)\n",
    "\n",
    "pi = 3.14159265359\n",
    "formatted_string = f\"Value of Pi: {pi:.2f}\"\n",
    "print(formatted_string)\n",
    "\n",
    "import datetime\n",
    "current_time = datetime.datetime.now()\n",
    "formatted_string = f\"Current time: {current_time:%Y-%m-%d %H:%M:%S}\"\n",
    "print(formatted_string)\n",
    "\n",
    "item = \"banana\"\n",
    "quantity = 10\n",
    "formatted_string = f\"{item:10} - {quantity:5}\"\n",
    "print(formatted_string)\n",
    "\n",
    "number = 1000000\n",
    "formatted_string = f\"{number:,}\"\n",
    "print(formatted_string)\n",
    "\n",
    "# \"{0} {1}\".format(first, second)\n",
    "\n",
    "first = \"apple\"\n",
    "second = \"banana\"\n",
    "third = \"carrot\"\n",
    "\n",
    "formatted_string = \"{0} {2} {1}\".format(first, second, third)\n",
    "\n",
    "print(formatted_string)\n",
    "\n",
    "print('{:d}'.format(int(10.5)))# → '10'\n",
    "print('{:.2f}'.format(0.5))# → '0.50'\n",
    "print('{:.2s}'.format('Python'))# → 'Py'\n",
    "print('{:<6s}'.format('Py'))# → 'Py    '\n",
    "print('{:>6s}'.format('Py'))# → '    Py'\n",
    "print('{:^6s}'.format('Py'))# → '  Py  '"
   ]
  },
  {
   "cell_type": "code",
   "execution_count": 40,
   "id": "90d403cf",
   "metadata": {},
   "outputs": [
    {
     "name": "stdout",
     "output_type": "stream",
     "text": [
      "<class '__main__.Apple'> red sweet\n"
     ]
    }
   ],
   "source": [
    "class Apple:\n",
    "    color=\" \"\n",
    "    flavor=\" \"\n",
    "    \n",
    "app1 = Apple()\n",
    "app1.color=\"red\"\n",
    "app1.flavor=\"sweet\"\n",
    "print(type(app1),app1.color, app1.flavor)"
   ]
  },
  {
   "cell_type": "code",
   "execution_count": 47,
   "id": "5b0132ed",
   "metadata": {},
   "outputs": [
    {
     "name": "stdout",
     "output_type": "stream",
     "text": [
      "Oink!Oink!! I am Hemlet. Oink Oink! I am 54 years oold\n",
      "Oink!Oink!! I am  Pinno. Oink Oink! I am 36 years oold\n",
      "this piglet's name is Pinno and is 36 years old\n"
     ]
    }
   ],
   "source": [
    "class Piglet():\n",
    "    def __init__(self, name, years):\n",
    "        self.name = name\n",
    "        self.years = years\n",
    "    \n",
    "    def __str__(self):\n",
    "        return \"this piglet's name is {} and is {} years old\".format(self.name, self.pig_years())\n",
    "    \n",
    "    def speak(self):\n",
    "        print(\"Oink!Oink!! I am {:>6}. Oink Oink! I am {} years oold\".format(self.name, self.pig_years()))\n",
    "        \n",
    "    def pig_years(self):\n",
    "        return self.years*18\n",
    "        \n",
    "Hemlet = Piglet(\"Hemlet\",3)\n",
    "Hemlet.speak()\n",
    "\n",
    "Pinnochio = Piglet(\"Pinno\",2)\n",
    "Pinnochio.speak()\n",
    "\n",
    "print(Pinnochio)"
   ]
  },
  {
   "cell_type": "code",
   "execution_count": 48,
   "id": "befbb845",
   "metadata": {},
   "outputs": [
    {
     "ename": "AttributeError",
     "evalue": "'Elevator' object has no attribute 'current'",
     "output_type": "error",
     "traceback": [
      "\u001b[1;31m---------------------------------------------------------------------------\u001b[0m",
      "\u001b[1;31mAttributeError\u001b[0m                            Traceback (most recent call last)",
      "Cell \u001b[1;32mIn[48], line 18\u001b[0m\n\u001b[0;32m     15\u001b[0m elevator \u001b[38;5;241m=\u001b[39m Elevator(\u001b[38;5;241m-\u001b[39m\u001b[38;5;241m1\u001b[39m, \u001b[38;5;241m10\u001b[39m, \u001b[38;5;241m0\u001b[39m)\n\u001b[0;32m     17\u001b[0m elevator\u001b[38;5;241m.\u001b[39mup() \n\u001b[1;32m---> 18\u001b[0m \u001b[38;5;28mprint\u001b[39m(elevator\u001b[38;5;241m.\u001b[39mcurrent)\n",
      "\u001b[1;31mAttributeError\u001b[0m: 'Elevator' object has no attribute 'current'"
     ]
    }
   ],
   "source": [
    "class Elevator:\n",
    "    def __init__(self, bottom, top, current):\n",
    "        \"\"\"Initializes the Elevator instance.\"\"\"\n",
    "        pass\n",
    "    def up(self):\n",
    "        \"\"\"Makes the elevator go up one floor.\"\"\"\n",
    "        pass\n",
    "    def down(self):\n",
    "        \"\"\"Makes the elevator go down one floor.\"\"\"\n",
    "        pass\n",
    "    def go_to(self, floor):\n",
    "        \"\"\"Makes the elevator go to the specific floor.\"\"\"\n",
    "        pass\n",
    "\n",
    "elevator = Elevator(-1, 10, 0)\n",
    "\n",
    "elevator.up() \n",
    "print(elevator.current) #should output 1\n",
    "\n",
    "\n",
    "elevator.down() \n",
    "elevator.current #should output 0\n",
    "\n",
    "elevator.go_to(10) \n",
    "elevator.current #should output 10\n",
    "\n",
    "# Go to the top floor. Try to go up, it should stay. Then go down.\n",
    "elevator.go_to(10)\n",
    "elevator.up()\n",
    "elevator.down()\n",
    "print(elevator.current) # should be 9\n",
    "# Go to the bottom floor. Try to go down, it should stay. Then go up.\n",
    "elevator.go_to(-1)\n",
    "elevator.down()\n",
    "elevator.down()\n",
    "elevator.up()\n",
    "elevator.up()\n",
    "print(elevator.current) # should be 1\n",
    "\n",
    "elevator.go_to(5)\n",
    "print(elevator)"
   ]
  }
 ],
 "metadata": {
  "kernelspec": {
   "display_name": "Python 3 (ipykernel)",
   "language": "python",
   "name": "python3"
  },
  "language_info": {
   "codemirror_mode": {
    "name": "ipython",
    "version": 3
   },
   "file_extension": ".py",
   "mimetype": "text/x-python",
   "name": "python",
   "nbconvert_exporter": "python",
   "pygments_lexer": "ipython3",
   "version": "3.11.5"
  }
 },
 "nbformat": 4,
 "nbformat_minor": 5
}
